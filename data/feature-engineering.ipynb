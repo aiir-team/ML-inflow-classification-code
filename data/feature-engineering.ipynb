{
 "cells": [
  {
   "cell_type": "code",
   "execution_count": 2,
   "metadata": {
    "pycharm": {
     "name": "#%%\n"
    }
   },
   "outputs": [],
   "source": [
    "import pandas as pd\n",
    "import numpy as np"
   ]
  },
  {
   "cell_type": "code",
   "execution_count": 3,
   "metadata": {
    "pycharm": {
     "name": "#%%\n"
    }
   },
   "outputs": [
    {
     "name": "stdout",
     "output_type": "stream",
     "text": [
      "        Unnamed: 0        value      value-1      value-2      value-3  \\\n",
      "count  1547.000000  1547.000000  1547.000000  1547.000000  1547.000000   \n",
      "mean    773.000000     7.591629     7.595048     7.594163     7.592902   \n",
      "std     446.724747     7.025416     7.024501     7.025085     7.026004   \n",
      "min       0.000000     0.800000     0.800000     0.800000     0.800000   \n",
      "25%     386.500000     2.805000     2.805000     2.800000     2.800000   \n",
      "50%     773.000000     4.440000     4.460000     4.460000     4.460000   \n",
      "75%    1159.500000    10.310000    10.310000    10.310000    10.310000   \n",
      "max    1546.000000    32.790000    32.790000    32.790000    32.790000   \n",
      "\n",
      "           value-4      value-5      value-6      value-7      value-8  \\\n",
      "count  1547.000000  1547.000000  1547.000000  1547.000000  1547.000000   \n",
      "mean      7.591765     7.590692     7.589405     7.588707     7.587453   \n",
      "std       7.026837     7.027572     7.028305     7.028561     7.028585   \n",
      "min       0.800000     0.800000     0.800000     0.800000     0.800000   \n",
      "25%       2.800000     2.800000     2.795000     2.795000     2.795000   \n",
      "50%       4.460000     4.460000     4.440000     4.440000     4.440000   \n",
      "75%      10.310000    10.310000    10.310000    10.310000    10.310000   \n",
      "max      32.790000    32.790000    32.790000    32.790000    32.790000   \n",
      "\n",
      "           value-9     value-10     value-11     value-12        month  \\\n",
      "count  1547.000000  1547.000000  1547.000000  1547.000000  1547.000000   \n",
      "mean      7.585869     7.585262     7.588132     7.599522     6.499677   \n",
      "std       7.027961     7.027054     7.033588     7.045886     3.454261   \n",
      "min       0.800000     0.800000     0.800000     0.800000     1.000000   \n",
      "25%       2.795000     2.795000     2.795000     2.795000     3.500000   \n",
      "50%       4.440000     4.440000     4.440000     4.440000     6.000000   \n",
      "75%      10.290000    10.290000    10.290000    10.310000     9.500000   \n",
      "max      32.790000    32.790000    32.790000    32.790000    12.000000   \n",
      "\n",
      "           month+1  \n",
      "count  1547.000000  \n",
      "mean      6.499030  \n",
      "std       3.454074  \n",
      "min       1.000000  \n",
      "25%       3.500000  \n",
      "50%       6.000000  \n",
      "75%       9.500000  \n",
      "max      12.000000  \n",
      "   Unnamed: 0       time  value  value-1  value-2  value-3  value-4  value-5  \\\n",
      "0           0   8-1-1872  23.60     8.36     2.28     1.50     1.57     1.95   \n",
      "1           1   9-1-1872  27.30    23.60     8.36     2.28     1.50     1.57   \n",
      "2           2  10-1-1872  21.30    27.30    23.60     8.36     2.28     1.50   \n",
      "3           3  11-1-1872  12.90    21.30    27.30    23.60     8.36     2.28   \n",
      "4           4  12-1-1872   8.31    12.90    21.30    27.30    23.60     8.36   \n",
      "\n",
      "   value-6  value-7  ...  value-9  value-10  value-11  value-12  month_text  \\\n",
      "0     2.59     4.48  ...     9.13     17.60     25.80     24.00      August   \n",
      "1     1.95     2.59  ...     6.48      9.13     17.60     25.80   September   \n",
      "2     1.57     1.95  ...     4.48      6.48      9.13     17.60     October   \n",
      "3     1.50     1.57  ...     2.59      4.48      6.48      9.13    November   \n",
      "4     2.28     1.50  ...     1.95      2.59      4.48      6.48    December   \n",
      "\n",
      "  month+1_text month  month+1   label label+1  \n",
      "0    September     8        9  Medium  Medium  \n",
      "1      October     9       10  Medium    High  \n",
      "2     November    10       11    High    High  \n",
      "3     December    11       12    High    High  \n",
      "4      January    12        1    High    High  \n",
      "\n",
      "[5 rows x 21 columns]\n",
      "Medium         736\n",
      "High           311\n",
      "Medium High    278\n",
      "Medium Low     157\n",
      "Low             65\n",
      "Name: label+1, dtype: int64\n"
     ]
    }
   ],
   "source": [
    "data = pd.read_csv(\"./input_data/inflow_by_prof.csv\")\n",
    "print(data.describe())\n",
    "print(data.head())\n",
    "print(data['label+1'].value_counts())"
   ]
  },
  {
   "cell_type": "markdown",
   "metadata": {
    "pycharm": {
     "name": "#%% md\n"
    }
   },
   "source": [
    "## My mean threshold method"
   ]
  },
  {
   "cell_type": "code",
   "execution_count": 4,
   "metadata": {
    "pycharm": {
     "name": "#%%\n"
    }
   },
   "outputs": [
    {
     "data": {
      "text/html": [
       "<div>\n",
       "<style scoped>\n",
       "    .dataframe tbody tr th:only-of-type {\n",
       "        vertical-align: middle;\n",
       "    }\n",
       "\n",
       "    .dataframe tbody tr th {\n",
       "        vertical-align: top;\n",
       "    }\n",
       "\n",
       "    .dataframe thead th {\n",
       "        text-align: right;\n",
       "    }\n",
       "</style>\n",
       "<table border=\"1\" class=\"dataframe\">\n",
       "  <thead>\n",
       "    <tr style=\"text-align: right;\">\n",
       "      <th></th>\n",
       "      <th>Unnamed: 0</th>\n",
       "      <th>time</th>\n",
       "      <th>value</th>\n",
       "      <th>value-1</th>\n",
       "      <th>value-2</th>\n",
       "      <th>value-3</th>\n",
       "      <th>value-4</th>\n",
       "      <th>value-5</th>\n",
       "      <th>value-6</th>\n",
       "      <th>value-7</th>\n",
       "      <th>...</th>\n",
       "      <th>value-9</th>\n",
       "      <th>value-10</th>\n",
       "      <th>value-11</th>\n",
       "      <th>value-12</th>\n",
       "      <th>month_text</th>\n",
       "      <th>month+1_text</th>\n",
       "      <th>month</th>\n",
       "      <th>month+1</th>\n",
       "      <th>label</th>\n",
       "      <th>label+1</th>\n",
       "    </tr>\n",
       "  </thead>\n",
       "  <tbody>\n",
       "    <tr>\n",
       "      <th>0</th>\n",
       "      <td>0</td>\n",
       "      <td>8-1-1872</td>\n",
       "      <td>23.60</td>\n",
       "      <td>8.36</td>\n",
       "      <td>2.28</td>\n",
       "      <td>1.50</td>\n",
       "      <td>1.57</td>\n",
       "      <td>1.95</td>\n",
       "      <td>2.59</td>\n",
       "      <td>4.48</td>\n",
       "      <td>...</td>\n",
       "      <td>9.13</td>\n",
       "      <td>17.60</td>\n",
       "      <td>25.80</td>\n",
       "      <td>24.00</td>\n",
       "      <td>August</td>\n",
       "      <td>September</td>\n",
       "      <td>8</td>\n",
       "      <td>9</td>\n",
       "      <td>Medium High</td>\n",
       "      <td>Medium High</td>\n",
       "    </tr>\n",
       "    <tr>\n",
       "      <th>1</th>\n",
       "      <td>1</td>\n",
       "      <td>9-1-1872</td>\n",
       "      <td>27.30</td>\n",
       "      <td>23.60</td>\n",
       "      <td>8.36</td>\n",
       "      <td>2.28</td>\n",
       "      <td>1.50</td>\n",
       "      <td>1.57</td>\n",
       "      <td>1.95</td>\n",
       "      <td>2.59</td>\n",
       "      <td>...</td>\n",
       "      <td>6.48</td>\n",
       "      <td>9.13</td>\n",
       "      <td>17.60</td>\n",
       "      <td>25.80</td>\n",
       "      <td>September</td>\n",
       "      <td>October</td>\n",
       "      <td>9</td>\n",
       "      <td>10</td>\n",
       "      <td>Medium High</td>\n",
       "      <td>High</td>\n",
       "    </tr>\n",
       "    <tr>\n",
       "      <th>2</th>\n",
       "      <td>2</td>\n",
       "      <td>10-1-1872</td>\n",
       "      <td>21.30</td>\n",
       "      <td>27.30</td>\n",
       "      <td>23.60</td>\n",
       "      <td>8.36</td>\n",
       "      <td>2.28</td>\n",
       "      <td>1.50</td>\n",
       "      <td>1.57</td>\n",
       "      <td>1.95</td>\n",
       "      <td>...</td>\n",
       "      <td>4.48</td>\n",
       "      <td>6.48</td>\n",
       "      <td>9.13</td>\n",
       "      <td>17.60</td>\n",
       "      <td>October</td>\n",
       "      <td>November</td>\n",
       "      <td>10</td>\n",
       "      <td>11</td>\n",
       "      <td>High</td>\n",
       "      <td>High</td>\n",
       "    </tr>\n",
       "    <tr>\n",
       "      <th>3</th>\n",
       "      <td>3</td>\n",
       "      <td>11-1-1872</td>\n",
       "      <td>12.90</td>\n",
       "      <td>21.30</td>\n",
       "      <td>27.30</td>\n",
       "      <td>23.60</td>\n",
       "      <td>8.36</td>\n",
       "      <td>2.28</td>\n",
       "      <td>1.50</td>\n",
       "      <td>1.57</td>\n",
       "      <td>...</td>\n",
       "      <td>2.59</td>\n",
       "      <td>4.48</td>\n",
       "      <td>6.48</td>\n",
       "      <td>9.13</td>\n",
       "      <td>November</td>\n",
       "      <td>December</td>\n",
       "      <td>11</td>\n",
       "      <td>12</td>\n",
       "      <td>High</td>\n",
       "      <td>High</td>\n",
       "    </tr>\n",
       "    <tr>\n",
       "      <th>4</th>\n",
       "      <td>4</td>\n",
       "      <td>12-1-1872</td>\n",
       "      <td>8.31</td>\n",
       "      <td>12.90</td>\n",
       "      <td>21.30</td>\n",
       "      <td>27.30</td>\n",
       "      <td>23.60</td>\n",
       "      <td>8.36</td>\n",
       "      <td>2.28</td>\n",
       "      <td>1.50</td>\n",
       "      <td>...</td>\n",
       "      <td>1.95</td>\n",
       "      <td>2.59</td>\n",
       "      <td>4.48</td>\n",
       "      <td>6.48</td>\n",
       "      <td>December</td>\n",
       "      <td>January</td>\n",
       "      <td>12</td>\n",
       "      <td>1</td>\n",
       "      <td>High</td>\n",
       "      <td>High</td>\n",
       "    </tr>\n",
       "  </tbody>\n",
       "</table>\n",
       "<p>5 rows × 21 columns</p>\n",
       "</div>"
      ],
      "text/plain": [
       "   Unnamed: 0       time  value  value-1  value-2  value-3  value-4  value-5  \\\n",
       "0           0   8-1-1872  23.60     8.36     2.28     1.50     1.57     1.95   \n",
       "1           1   9-1-1872  27.30    23.60     8.36     2.28     1.50     1.57   \n",
       "2           2  10-1-1872  21.30    27.30    23.60     8.36     2.28     1.50   \n",
       "3           3  11-1-1872  12.90    21.30    27.30    23.60     8.36     2.28   \n",
       "4           4  12-1-1872   8.31    12.90    21.30    27.30    23.60     8.36   \n",
       "\n",
       "   value-6  value-7  ...  value-9  value-10  value-11  value-12  month_text  \\\n",
       "0     2.59     4.48  ...     9.13     17.60     25.80     24.00      August   \n",
       "1     1.95     2.59  ...     6.48      9.13     17.60     25.80   September   \n",
       "2     1.57     1.95  ...     4.48      6.48      9.13     17.60     October   \n",
       "3     1.50     1.57  ...     2.59      4.48      6.48      9.13    November   \n",
       "4     2.28     1.50  ...     1.95      2.59      4.48      6.48    December   \n",
       "\n",
       "  month+1_text month  month+1        label      label+1  \n",
       "0    September     8        9  Medium High  Medium High  \n",
       "1      October     9       10  Medium High         High  \n",
       "2     November    10       11         High         High  \n",
       "3     December    11       12         High         High  \n",
       "4      January    12        1         High         High  \n",
       "\n",
       "[5 rows x 21 columns]"
      ]
     },
     "execution_count": 4,
     "metadata": {},
     "output_type": "execute_result"
    }
   ],
   "source": [
    "data = pd.read_csv(\"./input_data/inflow_by_mean.csv\")\n",
    "data.head()"
   ]
  },
  {
   "cell_type": "code",
   "execution_count": 5,
   "metadata": {
    "pycharm": {
     "name": "#%%\n"
    }
   },
   "outputs": [
    {
     "data": {
      "text/plain": [
       "Medium High    541\n",
       "High           536\n",
       "Medium         248\n",
       "Medium Low     118\n",
       "Low            104\n",
       "Name: label+1, dtype: int64"
      ]
     },
     "execution_count": 5,
     "metadata": {},
     "output_type": "execute_result"
    }
   ],
   "source": [
    "data['label+1'].value_counts()"
   ]
  },
  {
   "cell_type": "code",
   "execution_count": 9,
   "metadata": {
    "pycharm": {
     "name": "#%%\n"
    }
   },
   "outputs": [],
   "source": [
    "import pandas as pd \n",
    "import numpy as np\n",
    "from matplotlib import pyplot as plt\n",
    "from sklearn.preprocessing import LabelEncoder, OrdinalEncoder\n",
    "from sklearn.model_selection import cross_val_score, train_test_split\n",
    "from sklearn.feature_selection import SelectKBest, f_classif, mutual_info_classif"
   ]
  },
  {
   "cell_type": "code",
   "execution_count": null,
   "outputs": [],
   "source": [
    "# load the dataset\n",
    "def load_dataset(filename, cols=None):\n",
    "    # load the dataset as a pandas DataFrame\n",
    "    data = pd.read_csv(filename, usecols=cols)\n",
    "    # retrieve numpy array\n",
    "    dataset = data.values\n",
    "    # split into input (X) and output (y) variables\n",
    "    X = dataset[:, :-1]\n",
    "    y = dataset[:,-1]\n",
    "    return X, y\n",
    "\n",
    "# prepare target\n",
    "def prepare_targets(y_train, y_test):\n",
    "    le = LabelEncoder()\n",
    "    le.fit(y_train)\n",
    "    y_train_enc = le.transform(y_train)\n",
    "    y_test_enc = le.transform(y_test)\n",
    "    return y_train_enc, y_test_enc\n",
    "\n",
    "# feature selection\n",
    "def select_reg_features(X_train, y_train, X_test, test_func=\"ANOVA\", k_type='all'):\n",
    "    if test_func == \"ANOVA\":\n",
    "        score_func = f_classif\n",
    "    elif test_func == \"MI\":\n",
    "        score_func = mutual_info_classif\n",
    "    # configure to select all features\n",
    "    fs = SelectKBest(score_func=score_func, k=k_type)\n",
    "    # learn relationship from training data\n",
    "    fs.fit(X_train, y_train)\n",
    "    # transform train input data\n",
    "    X_train_fs = fs.transform(X_train)\n",
    "    # transform test input data\n",
    "    X_test_fs = fs.transform(X_test)\n",
    "    return X_train_fs, X_test_fs, fs\n",
    "\n",
    "# show results \n",
    "def show_results(scores, x_ticks, filename, x_label=\"Features\", title=\"Test\", figsize=(8, 4), verbose=True):\n",
    "    plt.figure(figsize=figsize)\n",
    "    \n",
    "    # what are scores for the features\n",
    "    for idx, score in enumerate(scores):\n",
    "        print(f'Feature {x_ticks[idx]}: {score}')\n",
    "        \n",
    "    # plot the scores\n",
    "    plt.bar(x_ticks, scores)\n",
    "    plt.xticks(rotation=45, ha='right')\n",
    "    plt.xlabel(x_label)\n",
    "    plt.title(title)\n",
    "    plt.savefig(filename, bbox_inches='tight')\n",
    "    if verbose:\n",
    "        plt.show()\n",
    "\n",
    "\n",
    "# split into input (X) and output (y) variables\n",
    "cols = ['value', 'value-1', 'value-2', 'value-3', 'value-4', 'value-5',\n",
    "                 'value-6', 'value-7', 'value-8', 'value-9', 'value-10', 'value-11', 'value-12', \"label+1\"]\n",
    "cols_name_saved = ['t', 't-1', 't-2', 't-3', 't-4', 't-5', 't-6', 't-7', 't-8', 't-9', 't-10', 't-11', 't-12']\n",
    "X, y = load_dataset(\"./input_data/inflow_by_mean.csv\", cols)\n",
    "\n",
    "# split into train and test sets\n",
    "X_train, X_test, Y_train, Y_test = train_test_split(X, y, test_size=0.2, random_state=20)\n",
    "\n",
    "# prepare output data\n",
    "y_train, y_test = prepare_targets(Y_train, Y_test)\n",
    "\n",
    "print(X_train[1])\n",
    "print(y_train[1])"
   ],
   "metadata": {
    "collapsed": false,
    "pycharm": {
     "name": "#%%\n"
    }
   }
  },
  {
   "cell_type": "code",
   "execution_count": null,
   "outputs": [],
   "source": [
    "# feature selection using ANOVA-test \n",
    "\n",
    "# feature selection using ANOVA-test \n",
    "X_train_fs, X_test_fs, fs = select_reg_features(X_train, y_train, X_test, \"ANOVA\", 'all')\n",
    "\n",
    "# show results\n",
    "show_results(fs.scores_, cols_name_saved, \"anova.png\", x_label=\"Features\", title=\"ANOVA test\", figsize=(7, 4), verbose=True)\n"
   ],
   "metadata": {
    "collapsed": false,
    "pycharm": {
     "name": "#%%\n"
    }
   }
  },
  {
   "cell_type": "code",
   "execution_count": null,
   "outputs": [],
   "source": [
    "# feature selection using mutual information\n",
    "X_train_fs, X_test_fs, fs = select_reg_features(X_train, y_train, X_test, \"MI\", 'all')\n",
    "\n",
    "# show results\n",
    "show_results(fs.scores_, cols_name_saved, \"mi.png\", x_label=\"Features\", title=\"MI test\", figsize=(7, 4), verbose=True)\n"
   ],
   "metadata": {
    "collapsed": false,
    "pycharm": {
     "name": "#%%\n"
    }
   }
  },
  {
   "cell_type": "code",
   "execution_count": null,
   "metadata": {
    "pycharm": {
     "name": "#%%\n"
    }
   },
   "outputs": [],
   "source": [
    "\n"
   ]
  },
  {
   "cell_type": "code",
   "execution_count": null,
   "metadata": {
    "pycharm": {
     "name": "#%%\n"
    }
   },
   "outputs": [],
   "source": []
  },
  {
   "cell_type": "code",
   "execution_count": null,
   "metadata": {
    "pycharm": {
     "name": "#%%\n"
    }
   },
   "outputs": [],
   "source": [
    "\n"
   ]
  },
  {
   "cell_type": "code",
   "execution_count": null,
   "metadata": {
    "pycharm": {
     "name": "#%%\n"
    }
   },
   "outputs": [],
   "source": []
  }
 ],
 "metadata": {
  "kernelspec": {
   "display_name": "Python 3 (ipykernel)",
   "language": "python",
   "name": "python3"
  },
  "language_info": {
   "codemirror_mode": {
    "name": "ipython",
    "version": 3
   },
   "file_extension": ".py",
   "mimetype": "text/x-python",
   "name": "python",
   "nbconvert_exporter": "python",
   "pygments_lexer": "ipython3",
   "version": "3.8.5"
  }
 },
 "nbformat": 4,
 "nbformat_minor": 1
}